{
 "cells": [
  {
   "cell_type": "markdown",
   "metadata": {},
   "source": [
    "# Gradient-based solver for ridge regression"
   ]
  },
  {
   "cell_type": "markdown",
   "metadata": {},
   "source": [
    "In this notebook, you will create a **gradient descent** solver for **ridge regression** and then compare it to the built-in solver in `sklearn.linear_model`."
   ]
  },
  {
   "cell_type": "markdown",
   "metadata": {},
   "source": [
    "## 1. Set up notebook and create data set"
   ]
  },
  {
   "cell_type": "markdown",
   "metadata": {},
   "source": [
    "After loading in some standard packages, we create a synthetic data set consisting of data points `(x,y)`:\n",
    "* `x`: 100-dimensional vector whose coordinates are independent draws from a standard normal (Gaussian) distribution\n",
    "* `y`: response value given by `y = wx + e` where `w` is a target regression function and `e` is Gaussian noise\n",
    "\n",
    "We will fix `w` to be the 100-dimensional vector whose first ten coordinates are exactly 1.0, and whose remaining coordinates are zero. Thus only the first ten coordinates of `x` are relevant to the regression task."
   ]
  },
  {
   "cell_type": "code",
   "execution_count": 1,
   "metadata": {},
   "outputs": [],
   "source": [
    "%matplotlib inline\n",
    "import numpy as np\n",
    "import matplotlib\n",
    "import matplotlib.pyplot as plt\n",
    "from sklearn import linear_model\n",
    "from sklearn.metrics import mean_squared_error\n",
    "matplotlib.rc('xtick', labelsize=14) \n",
    "matplotlib.rc('ytick', labelsize=14)"
   ]
  },
  {
   "cell_type": "markdown",
   "metadata": {},
   "source": [
    "The following procedure, **generate_data**, creates a data set of a specified number of points. It is invoked as follows:\n",
    "* `trainx, trainy = generate_data(n)`\n",
    "\n",
    "Here:\n",
    "* `n` is the target number of points\n",
    "* `trainx`: `nx100` array of data points\n",
    "* `trainy`: array of `n` response values"
   ]
  },
  {
   "cell_type": "code",
   "execution_count": 5,
   "metadata": {},
   "outputs": [],
   "source": [
    "def initialise_param(n):\n",
    "    d = 100\n",
    "    w = np.zeros((d,1))\n",
    "    b = np.array(1).reshape(-1,1)\n",
    "    for i in range(0,10):\n",
    "        w[i,0] = 1.0\n",
    "    return w, b\n",
    "\n",
    "def generate_data(n):\n",
    "    d = 100\n",
    "    #\n",
    "    trainx = np.random.normal(size=(n,d))\n",
    "    e = np.random.normal(size=(n,1))\n",
    "    trainy = np.dot(trainx, w) + e\n",
    "    #\n",
    "    return trainx, trainy"
   ]
  },
  {
   "cell_type": "markdown",
   "metadata": {},
   "source": [
    "## 2. Gradient descent solver for ridge regression"
   ]
  },
  {
   "cell_type": "markdown",
   "metadata": {},
   "source": [
    "<font color=\"magenta\">**For you to do:**</font> Define a procedure, **ridge_regression_GD**, that uses gradient descent to solve the ridge regression problem. It is invoked as follows:\n",
    "\n",
    "* `w,b,losses = ridge_regression_GD(x,y,C)`\n",
    "\n",
    "Here, the input consists of:\n",
    "* training data `x,y`, where `x` and `y` are numpy arrays of dimension `n`-by-`d` and `n`, respectively (if there are `n` training points)\n",
    "* regularization constant `C`\n",
    "\n",
    "The function should find the `d`-dimensional vector `w` and offset `b` that minimize the ridge regression loss function (with regularization constant `C`), and return:\n",
    "* `w` and `b`\n",
    "* `losses`, an array containing the ridge regression loss at each iteration\n",
    "\n",
    "<font color=\"magenta\">Advice:</font> First figure out the derivative, which has a relatively simple form. Next, when implementing gradient descent, think carefully about two issues.\n",
    "\n",
    "1. What is the step size?\n",
    "2. When has the procedure converged?\n",
    "\n",
    "Take the time to experiment with different ways of handling these."
   ]
  },
  {
   "cell_type": "code",
   "execution_count": 14,
   "metadata": {},
   "outputs": [],
   "source": [
    "def ridge_regression_GD(x,y,w,b,C):\n",
    "    losses = []\n",
    "    W = np.vstack((b, w))\n",
    "    X = np.hstack((np.ones((x.shape[0], 1)), x))\n",
    "    for itr in range(500):\n",
    "        dW = -2* np.dot(X.T , (y - np.dot(X,W))) + 2*C*W\n",
    "        W = W - 0.0005 * dW           \n",
    "        loss = np.dot((y - np.dot(X,W)).T, (y - np.dot(X,W))) + C * np.linalg.norm(W)**2\n",
    "        mse = np.dot((y - np.dot(X,W)).T, (y - np.dot(X,W)))/x.shape[0]\n",
    "        losses.append(np.squeeze(loss))\n",
    "    w = W[1:] \n",
    "    b = W[0]\n",
    "    return w,b,losses"
   ]
  },
  {
   "cell_type": "markdown",
   "metadata": {},
   "source": [
    "Let's try it out and print a graph of the loss values during the optimization process."
   ]
  },
  {
   "cell_type": "code",
   "execution_count": 13,
   "metadata": {},
   "outputs": [
    {
     "name": "stdout",
     "output_type": "stream",
     "text": [
      "MSE:  1.6177395016012632\n"
     ]
    },
    {
     "data": {
      "image/png": "[encoded data removed]",
      "text/plain": [
       "<Figure size 432x288 with 1 Axes>"
      ]
     },
     "metadata": {
      "needs_background": "light"
     },
     "output_type": "display_data"
    },
    {
     "name": "stdout",
     "output_type": "stream",
     "text": [
      "w =  [[ 5.49259410e-01  6.02461814e-01  5.23211414e-01  4.63893154e-01\n",
      "   5.48944439e-01  6.74441506e-01  6.05864990e-01  5.10219292e-01\n",
      "   6.99026011e-01  5.47830916e-01 -5.47041975e-02  1.31599721e-02\n",
      "   6.49163084e-02  9.15841473e-02 -4.63839148e-03  4.96219487e-02\n",
      "   7.15401119e-02  5.80877043e-02 -2.10859409e-02 -7.48816462e-02\n",
      "   1.16213779e-01 -1.85981011e-02  1.15495293e-02  1.50686463e-01\n",
      "   6.96703433e-02 -1.34857975e-04 -9.06223175e-02  1.02479222e-01\n",
      "   8.01339578e-02  6.99074541e-02 -9.81539211e-02 -3.34377068e-02\n",
      "  -1.20573637e-02 -9.78860212e-03  8.66756678e-02 -4.05859822e-02\n",
      "   4.71659495e-02  1.27241209e-02 -3.97647448e-02  5.58565182e-02\n",
      "  -5.31373531e-02  7.88599072e-02 -8.78106424e-02 -1.56781582e-01\n",
      "  -4.42982548e-02 -2.52488983e-02 -5.43105515e-02 -2.15240701e-02\n",
      "   3.29062312e-02  1.40853726e-01  3.86847250e-02 -1.13570831e-01\n",
      "  -2.79157341e-02  6.87525965e-02  1.68502419e-01  1.69297340e-02\n",
      "   9.21024446e-02  3.17002346e-02  1.97356113e-02  4.54523635e-02\n",
      "   1.76559724e-02  8.64030155e-02 -3.60966646e-02  8.82464326e-02\n",
      "   7.42332602e-03  1.05263318e-01 -1.25153329e-01  5.33808937e-03\n",
      "   9.88287535e-02 -5.30951680e-03  6.02933107e-02  1.25426712e-01\n",
      "   7.03711565e-02 -2.35650457e-02  1.58186736e-01 -1.21954873e-01\n",
      "   4.45876498e-02 -7.14806229e-02  7.81453891e-02 -9.72810507e-02\n",
      "   1.17073312e-01 -3.99502053e-02  7.07334981e-02 -7.06134204e-02\n",
      "   2.46298273e-02 -1.03467574e-01  2.42375138e-02 -1.02460990e-01\n",
      "  -1.04566795e-01 -6.81350619e-02  1.07049220e-01  1.07873338e-01\n",
      "  -1.82946317e-02 -1.12590496e-01  1.16589318e-01  1.34835645e-01\n",
      "  -2.47355925e-02  1.31429097e-02 -4.02534681e-02  7.43368612e-02]] b =  [-0.01870499]\n"
     ]
    }
   ],
   "source": [
    "# Generate 200 data points\n",
    "n = 200\n",
    "w, b = initialise_param(n)\n",
    "x,y = generate_data(n)\n",
    "# Set regularization constant\n",
    "C = 100\n",
    "# Run gradient descent solver\n",
    "w, b, losses = ridge_regression_GD(x,y,w,b,C)\n",
    "# Plot the losses\n",
    "plt.plot(losses,'r')\n",
    "plt.xlabel('Iterations', fontsize=14)\n",
    "plt.ylabel('Loss', fontsize=14)\n",
    "plt.show()\n",
    "print('w = ',  w.reshape(1,-1), 'b = ', b )"
   ]
  },
  {
   "cell_type": "markdown",
   "metadata": {},
   "source": [
    "<font color=\"magenta\">**Something to think about**</font>\n",
    "\n",
    "1. In setting the step size, does it work to use a fixed schedule 1/t? Why or why not?\n",
    "\n",
    "2. Can you set up the gradient descent procedure in such a way that on each iteration, the loss monotonically decreases?\n"
   ]
  },
  {
   "cell_type": "markdown",
   "metadata": {},
   "source": [
    "## 3. Evaluate the gradient descent solver"
   ]
  },
  {
   "cell_type": "markdown",
   "metadata": {},
   "source": [
    "Now let's compare the regressor found by your gradient descent procedure to that returned by the built-in ridge regression solver in `sklearn`. We will compare them in two ways:\n",
    "* Their MSE values\n",
    "* The distance between the corresponding `w`-vectors\n",
    "\n",
    "The latter should be smaller than 10^{-4}.\n"
   ]
  },
  {
   "cell_type": "code",
   "execution_count": 11,
   "metadata": {},
   "outputs": [],
   "source": [
    "def compute_mse(w,b,x,y):\n",
    "    residuals = y - (np.dot(x, w) + b)\n",
    "    return np.dot(residuals.T, residuals)/n"
   ]
  },
  {
   "cell_type": "code",
   "execution_count": 12,
   "metadata": {},
   "outputs": [
    {
     "name": "stdout",
     "output_type": "stream",
     "text": [
      "MSE:  0.7431456663092671\n",
      "MSE of gradient descent solver:  0.7431456663092671\n",
      "MSE of built-in solver:  0.7375349514852487\n",
      "Distance between w-coefficients:  13.899702918217526\n"
     ]
    }
   ],
   "source": [
    "# Generate 200 data points\n",
    "n = 200\n",
    "x,y = generate_data(n)\n",
    "w, b = initialise_param(n)\n",
    "# Set regularization constant\n",
    "C = 100\n",
    "# Run gradient descent solver and compute its MSE\n",
    "w, b, losses = ridge_regression_GD(x,y,w,b,C)\n",
    "# Use built-in routine for ridge regression and compute MSE\n",
    "regr = linear_model.Ridge(alpha=C)\n",
    "regr.fit(x, y)\n",
    "# Print MSE values and L2 distance between the regression functions\n",
    "print( \"MSE of gradient descent solver: \", np.squeeze(compute_mse(w,b,x,y)))\n",
    "print( \"MSE of built-in solver: \", mean_squared_error(regr.predict(x), y))\n",
    "print(\"Distance between w-coefficients: \", np.linalg.norm(w-regr.coef_))"
   ]
  },
  {
   "cell_type": "markdown",
   "metadata": {},
   "source": [
    "<font color=\"magenta\">**Something to think about**</font>\n",
    "\n",
    "The data was originally generated using a linear function in which only ten of the 100 features (the first ten) were relevant. Does the vector `w` returned by ridge regression correctly identify the relevant features?"
   ]
  },
  {
   "cell_type": "code",
   "execution_count": null,
   "metadata": {},
   "outputs": [],
   "source": []
  }
 ],
 "metadata": {
  "kernelspec": {
   "display_name": "Python 3",
   "language": "python",
   "name": "python3"
  },
  "language_info": {
   "codemirror_mode": {
    "name": "ipython",
    "version": 3
   },
   "file_extension": ".py",
   "mimetype": "text/x-python",
   "name": "python",
   "nbconvert_exporter": "python",
   "pygments_lexer": "ipython3",
   "version": "3.7.1"
  },
  "toc": {
   "colors": {
    "hover_highlight": "#DAA520",
    "navigate_num": "#000000",
    "navigate_text": "#333333",
    "running_highlight": "#FF0000",
    "selected_highlight": "#FFD700",
    "sidebar_border": "#EEEEEE",
    "wrapper_background": "#FFFFFF"
   },
   "moveMenuLeft": true,
   "nav_menu": {
    "height": "12px",
    "width": "252px"
   },
   "navigate_menu": true,
   "number_sections": false,
   "sideBar": true,
   "threshold": 4,
   "toc_cell": false,
   "toc_section_display": "block",
   "toc_window_display": false,
   "widenNotebook": false
  }
 },
 "nbformat": 4,
 "nbformat_minor": 2
}
